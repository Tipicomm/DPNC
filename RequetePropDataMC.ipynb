{
  "nbformat": 4,
  "nbformat_minor": 0,
  "metadata": {
    "colab": {
      "provenance": [],
      "authorship_tag": "ABX9TyNaPIIU27f7EBvnS1thjW5V",
      "include_colab_link": true
    },
    "kernelspec": {
      "name": "python3",
      "display_name": "Python 3"
    },
    "language_info": {
      "name": "python"
    }
  },
  "cells": [
    {
      "cell_type": "markdown",
      "metadata": {
        "id": "view-in-github",
        "colab_type": "text"
      },
      "source": [
        "<a href=\"https://colab.research.google.com/github/Tipicomm/DPNC/blob/main/RequetePropDataMC.ipynb\" target=\"_parent\"><img src=\"https://colab.research.google.com/assets/colab-badge.svg\" alt=\"Open In Colab\"/></a>"
      ]
    },
    {
      "cell_type": "code",
      "execution_count": null,
      "metadata": {
        "colab": {
          "base_uri": "https://localhost:8080/"
        },
        "id": "ABTN9GIYNOmT",
        "outputId": "29d49673-557e-4262-a43a-36e5e35e87bd"
      },
      "outputs": [
        {
          "output_type": "stream",
          "name": "stdout",
          "text": [
            "📥 Fichier téléchargé et enregistré localement sous 'datasets-resources.csv'.\n",
            "✅ Fichier 'ressources_csv_culture.csv' généré avec succès (colonnes filtrées).\n"
          ]
        }
      ],
      "source": [
        "import pandas as pd\n",
        "import requests\n",
        "\n",
        "# URL de la ressource\n",
        "url = \"https://www.data.gouv.fr/api/1/organizations/ministere-de-la-culture-et-de-la-communication/datasets-resources.csv\"\n",
        "fichier_telecharge = \"datasets-resources.csv\"\n",
        "\n",
        "# Télécharger le fichier et l’enregistrer localement\n",
        "response = requests.get(url)\n",
        "with open(fichier_telecharge, \"wb\") as f:\n",
        "    f.write(response.content)\n",
        "\n",
        "print(\"📥 Fichier téléchargé et enregistré localement sous 'datasets-resources.csv'.\")\n",
        "\n",
        "# Lire le CSV\n",
        "df = pd.read_csv(fichier_telecharge, sep=\";\")\n",
        "\n",
        "# Filtrer uniquement les ressources CSV (insensible à la casse)\n",
        "df_csv = df[df[\"format\"].str.lower() == \"csv\"]\n",
        "\n",
        "# Ne conserver que les colonnes souhaitées\n",
        "colonnes_souhaitees = [\"dataset.id\", \"dataset.title\", \"id\"]\n",
        "df_csv = df_csv[colonnes_souhaitees]\n",
        "\n",
        "# Enregistrer dans un nouveau fichier\n",
        "df_csv.to_csv(\"ressources_csv_culture.csv\", index=False)\n",
        "\n",
        "print(\"✅ Fichier 'ressources_csv_culture.csv' généré avec succès (colonnes filtrées).\")\n"
      ]
    },
    {
      "cell_type": "code",
      "source": [
        "import pandas as pd\n",
        "import requests\n",
        "import yaml\n",
        "from tqdm import tqdm\n",
        "\n",
        "# Charger les 50 premières ressources\n",
        "df_csv = pd.read_csv(\"ressources_csv_culture.csv\").head(200)\n",
        "\n",
        "# Stocker les résultats sous forme de lignes individuelles\n",
        "rows = []\n",
        "\n",
        "for _, row in tqdm(df_csv.iterrows(), total=len(df_csv), desc=\"🔍 Extraction propriétés\"):\n",
        "    resource_id = row[\"id\"]\n",
        "    dataset_id = row[\"dataset.id\"]\n",
        "    dataset_title = row[\"dataset.title\"]\n",
        "\n",
        "    url = f\"https://tabular-api.data.gouv.fr/api/resources/{resource_id}/swagger/\"\n",
        "\n",
        "    try:\n",
        "        response = requests.get(url, timeout=10)\n",
        "        if response.status_code == 200:\n",
        "            try:\n",
        "                data = yaml.safe_load(response.text)\n",
        "                props = data.get(\"components\", {}).get(\"schemas\", {}).get(\"Resource\", {}).get(\"properties\", {})\n",
        "\n",
        "                if props:\n",
        "                    for prop_name, prop_info in props.items():\n",
        "                        rows.append({\n",
        "                            \"id\": resource_id,\n",
        "                            \"dataset.id\": dataset_id,\n",
        "                            \"dataset.title\": dataset_title,\n",
        "                            \"property_name\": prop_name,\n",
        "                            \"property_type\": prop_info.get(\"type\", \"unknown\")\n",
        "                        })\n",
        "                else:\n",
        "                    rows.append({\n",
        "                        \"id\": resource_id,\n",
        "                        \"dataset.id\": dataset_id,\n",
        "                        \"dataset.title\": dataset_title,\n",
        "                        \"property_name\": \"⚠️ Aucune colonne trouvée\",\n",
        "                        \"property_type\": \"\"\n",
        "                    })\n",
        "            except yaml.YAMLError as e:\n",
        "                rows.append({\n",
        "                    \"id\": resource_id,\n",
        "                    \"dataset.id\": dataset_id,\n",
        "                    \"dataset.title\": dataset_title,\n",
        "                    \"property_name\": f\"❌ Erreur YAML : {str(e)}\",\n",
        "                    \"property_type\": \"\"\n",
        "                })\n",
        "        else:\n",
        "            rows.append({\n",
        "                \"id\": resource_id,\n",
        "                \"dataset.id\": dataset_id,\n",
        "                \"dataset.title\": dataset_title,\n",
        "                \"property_name\": f\"❌ HTTP {response.status_code}\",\n",
        "                \"property_type\": \"\"\n",
        "            })\n",
        "    except Exception as e:\n",
        "        rows.append({\n",
        "            \"id\": resource_id,\n",
        "            \"dataset.id\": dataset_id,\n",
        "            \"dataset.title\": dataset_title,\n",
        "            \"property_name\": f\"❌ Exception : {str(e)}\",\n",
        "            \"property_type\": \"\"\n",
        "        })\n",
        "\n",
        "# Convertir en DataFrame et sauvegarder\n",
        "df_properties = pd.DataFrame(rows)\n",
        "df_properties.to_csv(\"ressources_csv_properties.csv\", index=False)\n",
        "\n",
        "print(\"✅ Fichier 'ressources_csv_properties.csv' généré (format long par propriété).\")\n"
      ],
      "metadata": {
        "colab": {
          "base_uri": "https://localhost:8080/"
        },
        "id": "6H4xkrZkSovd",
        "outputId": "b6eb826c-afab-4bdb-9be0-c706841ffcbe"
      },
      "execution_count": null,
      "outputs": [
        {
          "output_type": "stream",
          "name": "stderr",
          "text": [
            "🔍 Extraction propriétés: 100%|██████████| 190/190 [01:33<00:00,  2.04it/s]\n"
          ]
        },
        {
          "output_type": "stream",
          "name": "stdout",
          "text": [
            "✅ Fichier 'ressources_csv_properties.csv' généré (format long par propriété).\n"
          ]
        }
      ]
    },
    {
      "cell_type": "code",
      "source": [],
      "metadata": {
        "id": "bc637V6wejOf"
      },
      "execution_count": null,
      "outputs": []
    }
  ]
}